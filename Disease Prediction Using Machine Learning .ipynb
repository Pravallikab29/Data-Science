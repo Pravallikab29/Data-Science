{
 "cells": [
  {
   "cell_type": "markdown",
   "id": "c1c01131",
   "metadata": {},
   "source": [
    "In this project, I will venture into the realm of disease prediction using machine learning.This dataset contains vital information regarding the diagnosis of heart disease patients. Through the power of machine learning, aim to predict whether an individual is susceptible to heart disease, leveraging features such as chest pain type, age, sex, and more.\n",
    "\n",
    "Heart disease stands as a prominent cause of morbidity and mortality on a global scale. Predicting cardiovascular disease is a crucial area within clinical data analysis, considering its profound impact on public health. The healthcare industry harbors a vast reservoir of data, and the process of data mining transforms this extensive healthcare repository into actionable insights, facilitating informed decision-making and predictions.\n",
    "\n",
    "This project unfolds by training machine learning models capable of discerning the presence or absence of heart disease based on a comprehensive set of attributes. To achieve this, I draw upon the Cleveland Heart Disease dataset, sourced from the UCI repository.\n",
    "\n",
    "Ultimate goal is to empower healthcare professionals and individuals with data-driven insights, enhancing their ability to make early and accurate predictions regarding heart disease."
   ]
  },
  {
   "cell_type": "code",
   "execution_count": 1,
   "id": "49411edb",
   "metadata": {},
   "outputs": [
    {
     "data": {
      "text/html": [
       "<div>\n",
       "<style scoped>\n",
       "    .dataframe tbody tr th:only-of-type {\n",
       "        vertical-align: middle;\n",
       "    }\n",
       "\n",
       "    .dataframe tbody tr th {\n",
       "        vertical-align: top;\n",
       "    }\n",
       "\n",
       "    .dataframe thead th {\n",
       "        text-align: right;\n",
       "    }\n",
       "</style>\n",
       "<table border=\"1\" class=\"dataframe\">\n",
       "  <thead>\n",
       "    <tr style=\"text-align: right;\">\n",
       "      <th></th>\n",
       "      <th>age</th>\n",
       "      <th>sex</th>\n",
       "      <th>cp</th>\n",
       "      <th>trestbps</th>\n",
       "      <th>chol</th>\n",
       "      <th>fbs</th>\n",
       "      <th>restecg</th>\n",
       "      <th>thalach</th>\n",
       "      <th>exang</th>\n",
       "      <th>oldpeak</th>\n",
       "      <th>slope</th>\n",
       "      <th>ca</th>\n",
       "      <th>thal</th>\n",
       "      <th>condition</th>\n",
       "    </tr>\n",
       "  </thead>\n",
       "  <tbody>\n",
       "    <tr>\n",
       "      <th>0</th>\n",
       "      <td>69</td>\n",
       "      <td>1</td>\n",
       "      <td>0</td>\n",
       "      <td>160</td>\n",
       "      <td>234</td>\n",
       "      <td>1</td>\n",
       "      <td>2</td>\n",
       "      <td>131</td>\n",
       "      <td>0</td>\n",
       "      <td>0.1</td>\n",
       "      <td>1</td>\n",
       "      <td>1</td>\n",
       "      <td>0</td>\n",
       "      <td>0</td>\n",
       "    </tr>\n",
       "    <tr>\n",
       "      <th>1</th>\n",
       "      <td>69</td>\n",
       "      <td>0</td>\n",
       "      <td>0</td>\n",
       "      <td>140</td>\n",
       "      <td>239</td>\n",
       "      <td>0</td>\n",
       "      <td>0</td>\n",
       "      <td>151</td>\n",
       "      <td>0</td>\n",
       "      <td>1.8</td>\n",
       "      <td>0</td>\n",
       "      <td>2</td>\n",
       "      <td>0</td>\n",
       "      <td>0</td>\n",
       "    </tr>\n",
       "    <tr>\n",
       "      <th>2</th>\n",
       "      <td>66</td>\n",
       "      <td>0</td>\n",
       "      <td>0</td>\n",
       "      <td>150</td>\n",
       "      <td>226</td>\n",
       "      <td>0</td>\n",
       "      <td>0</td>\n",
       "      <td>114</td>\n",
       "      <td>0</td>\n",
       "      <td>2.6</td>\n",
       "      <td>2</td>\n",
       "      <td>0</td>\n",
       "      <td>0</td>\n",
       "      <td>0</td>\n",
       "    </tr>\n",
       "    <tr>\n",
       "      <th>3</th>\n",
       "      <td>65</td>\n",
       "      <td>1</td>\n",
       "      <td>0</td>\n",
       "      <td>138</td>\n",
       "      <td>282</td>\n",
       "      <td>1</td>\n",
       "      <td>2</td>\n",
       "      <td>174</td>\n",
       "      <td>0</td>\n",
       "      <td>1.4</td>\n",
       "      <td>1</td>\n",
       "      <td>1</td>\n",
       "      <td>0</td>\n",
       "      <td>1</td>\n",
       "    </tr>\n",
       "    <tr>\n",
       "      <th>4</th>\n",
       "      <td>64</td>\n",
       "      <td>1</td>\n",
       "      <td>0</td>\n",
       "      <td>110</td>\n",
       "      <td>211</td>\n",
       "      <td>0</td>\n",
       "      <td>2</td>\n",
       "      <td>144</td>\n",
       "      <td>1</td>\n",
       "      <td>1.8</td>\n",
       "      <td>1</td>\n",
       "      <td>0</td>\n",
       "      <td>0</td>\n",
       "      <td>0</td>\n",
       "    </tr>\n",
       "  </tbody>\n",
       "</table>\n",
       "</div>"
      ],
      "text/plain": [
       "   age  sex  cp  trestbps  chol  fbs  restecg  thalach  exang  oldpeak  slope  \\\n",
       "0   69    1   0       160   234    1        2      131      0      0.1      1   \n",
       "1   69    0   0       140   239    0        0      151      0      1.8      0   \n",
       "2   66    0   0       150   226    0        0      114      0      2.6      2   \n",
       "3   65    1   0       138   282    1        2      174      0      1.4      1   \n",
       "4   64    1   0       110   211    0        2      144      1      1.8      1   \n",
       "\n",
       "   ca  thal  condition  \n",
       "0   1     0          0  \n",
       "1   2     0          0  \n",
       "2   0     0          0  \n",
       "3   1     0          1  \n",
       "4   0     0          0  "
      ]
     },
     "execution_count": 1,
     "metadata": {},
     "output_type": "execute_result"
    }
   ],
   "source": [
    "import pandas as pd\n",
    "\n",
    "df = pd.read_csv(\"heart_cleveland_upload.csv\")\n",
    "\n",
    "df.head()"
   ]
  },
  {
   "cell_type": "markdown",
   "id": "65da2b4c",
   "metadata": {},
   "source": [
    "My focus shifts to identifying and quantifying null values within the health data. The count of null values (represented as 'sumofnull' in the code) is a crucial metric. It helps to assess data completeness and quality, ensuring aware of any missing information. Recognizing and addressing null values is paramount for accurate and reliable analysis in this project. This meticulous examination of null values contributes to the project's overall data integrity and the generation of meaningful insights."
   ]
  },
  {
   "cell_type": "code",
   "execution_count": 2,
   "id": "e3a51f7b",
   "metadata": {},
   "outputs": [
    {
     "data": {
      "text/plain": [
       "age          0\n",
       "sex          0\n",
       "cp           0\n",
       "trestbps     0\n",
       "chol         0\n",
       "fbs          0\n",
       "restecg      0\n",
       "thalach      0\n",
       "exang        0\n",
       "oldpeak      0\n",
       "slope        0\n",
       "ca           0\n",
       "thal         0\n",
       "condition    0\n",
       "dtype: int64"
      ]
     },
     "execution_count": 2,
     "metadata": {},
     "output_type": "execute_result"
    }
   ],
   "source": [
    "sumofnull = df.isnull().sum()\n",
    "sumofnull"
   ]
  },
  {
   "cell_type": "code",
   "execution_count": 3,
   "id": "51e78c22",
   "metadata": {},
   "outputs": [
    {
     "data": {
      "text/plain": [
       "age            int64\n",
       "sex            int64\n",
       "cp             int64\n",
       "trestbps       int64\n",
       "chol           int64\n",
       "fbs            int64\n",
       "restecg        int64\n",
       "thalach        int64\n",
       "exang          int64\n",
       "oldpeak      float64\n",
       "slope          int64\n",
       "ca             int64\n",
       "thal           int64\n",
       "condition      int64\n",
       "dtype: object"
      ]
     },
     "execution_count": 3,
     "metadata": {},
     "output_type": "execute_result"
    }
   ],
   "source": [
    "datatype = df.dtypes\n",
    "datatype\n"
   ]
  },
  {
   "cell_type": "markdown",
   "id": "5144cf97",
   "metadata": {},
   "source": [
    "Classify the features within  health data into two categories: numerical and categorical"
   ]
  },
  {
   "cell_type": "code",
   "execution_count": 4,
   "id": "23bbe4de",
   "metadata": {},
   "outputs": [
    {
     "data": {
      "text/html": [
       "<div>\n",
       "<style scoped>\n",
       "    .dataframe tbody tr th:only-of-type {\n",
       "        vertical-align: middle;\n",
       "    }\n",
       "\n",
       "    .dataframe tbody tr th {\n",
       "        vertical-align: top;\n",
       "    }\n",
       "\n",
       "    .dataframe thead th {\n",
       "        text-align: right;\n",
       "    }\n",
       "</style>\n",
       "<table border=\"1\" class=\"dataframe\">\n",
       "  <thead>\n",
       "    <tr style=\"text-align: right;\">\n",
       "      <th></th>\n",
       "      <th>sex</th>\n",
       "      <th>cp</th>\n",
       "      <th>fbs</th>\n",
       "      <th>restecg</th>\n",
       "      <th>exang</th>\n",
       "      <th>slope</th>\n",
       "      <th>ca</th>\n",
       "      <th>thal</th>\n",
       "    </tr>\n",
       "  </thead>\n",
       "  <tbody>\n",
       "    <tr>\n",
       "      <th>0</th>\n",
       "      <td>1</td>\n",
       "      <td>0</td>\n",
       "      <td>1</td>\n",
       "      <td>2</td>\n",
       "      <td>0</td>\n",
       "      <td>1</td>\n",
       "      <td>1</td>\n",
       "      <td>0</td>\n",
       "    </tr>\n",
       "    <tr>\n",
       "      <th>1</th>\n",
       "      <td>0</td>\n",
       "      <td>0</td>\n",
       "      <td>0</td>\n",
       "      <td>0</td>\n",
       "      <td>0</td>\n",
       "      <td>0</td>\n",
       "      <td>2</td>\n",
       "      <td>0</td>\n",
       "    </tr>\n",
       "    <tr>\n",
       "      <th>2</th>\n",
       "      <td>0</td>\n",
       "      <td>0</td>\n",
       "      <td>0</td>\n",
       "      <td>0</td>\n",
       "      <td>0</td>\n",
       "      <td>2</td>\n",
       "      <td>0</td>\n",
       "      <td>0</td>\n",
       "    </tr>\n",
       "    <tr>\n",
       "      <th>3</th>\n",
       "      <td>1</td>\n",
       "      <td>0</td>\n",
       "      <td>1</td>\n",
       "      <td>2</td>\n",
       "      <td>0</td>\n",
       "      <td>1</td>\n",
       "      <td>1</td>\n",
       "      <td>0</td>\n",
       "    </tr>\n",
       "    <tr>\n",
       "      <th>4</th>\n",
       "      <td>1</td>\n",
       "      <td>0</td>\n",
       "      <td>0</td>\n",
       "      <td>2</td>\n",
       "      <td>1</td>\n",
       "      <td>1</td>\n",
       "      <td>0</td>\n",
       "      <td>0</td>\n",
       "    </tr>\n",
       "    <tr>\n",
       "      <th>...</th>\n",
       "      <td>...</td>\n",
       "      <td>...</td>\n",
       "      <td>...</td>\n",
       "      <td>...</td>\n",
       "      <td>...</td>\n",
       "      <td>...</td>\n",
       "      <td>...</td>\n",
       "      <td>...</td>\n",
       "    </tr>\n",
       "    <tr>\n",
       "      <th>292</th>\n",
       "      <td>1</td>\n",
       "      <td>3</td>\n",
       "      <td>0</td>\n",
       "      <td>0</td>\n",
       "      <td>0</td>\n",
       "      <td>0</td>\n",
       "      <td>0</td>\n",
       "      <td>2</td>\n",
       "    </tr>\n",
       "    <tr>\n",
       "      <th>293</th>\n",
       "      <td>1</td>\n",
       "      <td>3</td>\n",
       "      <td>0</td>\n",
       "      <td>0</td>\n",
       "      <td>0</td>\n",
       "      <td>1</td>\n",
       "      <td>0</td>\n",
       "      <td>2</td>\n",
       "    </tr>\n",
       "    <tr>\n",
       "      <th>294</th>\n",
       "      <td>1</td>\n",
       "      <td>3</td>\n",
       "      <td>0</td>\n",
       "      <td>0</td>\n",
       "      <td>1</td>\n",
       "      <td>1</td>\n",
       "      <td>0</td>\n",
       "      <td>2</td>\n",
       "    </tr>\n",
       "    <tr>\n",
       "      <th>295</th>\n",
       "      <td>0</td>\n",
       "      <td>3</td>\n",
       "      <td>0</td>\n",
       "      <td>0</td>\n",
       "      <td>0</td>\n",
       "      <td>0</td>\n",
       "      <td>0</td>\n",
       "      <td>0</td>\n",
       "    </tr>\n",
       "    <tr>\n",
       "      <th>296</th>\n",
       "      <td>1</td>\n",
       "      <td>3</td>\n",
       "      <td>0</td>\n",
       "      <td>2</td>\n",
       "      <td>1</td>\n",
       "      <td>0</td>\n",
       "      <td>0</td>\n",
       "      <td>2</td>\n",
       "    </tr>\n",
       "  </tbody>\n",
       "</table>\n",
       "<p>297 rows × 8 columns</p>\n",
       "</div>"
      ],
      "text/plain": [
       "     sex  cp  fbs  restecg  exang  slope  ca  thal\n",
       "0      1   0    1        2      0      1   1     0\n",
       "1      0   0    0        0      0      0   2     0\n",
       "2      0   0    0        0      0      2   0     0\n",
       "3      1   0    1        2      0      1   1     0\n",
       "4      1   0    0        2      1      1   0     0\n",
       "..   ...  ..  ...      ...    ...    ...  ..   ...\n",
       "292    1   3    0        0      0      0   0     2\n",
       "293    1   3    0        0      0      1   0     2\n",
       "294    1   3    0        0      1      1   0     2\n",
       "295    0   3    0        0      0      0   0     0\n",
       "296    1   3    0        2      1      0   0     2\n",
       "\n",
       "[297 rows x 8 columns]"
      ]
     },
     "execution_count": 4,
     "metadata": {},
     "output_type": "execute_result"
    }
   ],
   "source": [
    "numeric_features = df[['age','trestbps','chol','thalach','oldpeak','condition']]\n",
    "cat_features = df[['sex', 'cp', 'fbs', 'restecg', 'exang', 'slope', 'ca','thal']]\n",
    "                  \n",
    "#--- Inspect data ---\n",
    "cat_features"
   ]
  },
  {
   "cell_type": "markdown",
   "id": "abdda6b4",
   "metadata": {},
   "source": [
    "**Converting Features to Categorical Data Types**\n",
    "\n",
    "Transform selected features into categorical data types. Specifically,I convert 'sex,' 'cp,' 'fbs,' 'restecg,' 'exang,' 'slope,' 'ca,' and 'thal' into categorical variables. This conversion is a key step in  data preprocessing, as it ensures that these features are treated appropriately in this analysis."
   ]
  },
  {
   "cell_type": "code",
   "execution_count": 5,
   "id": "e35d6ebc",
   "metadata": {},
   "outputs": [
    {
     "data": {
      "text/plain": [
       "age            int64\n",
       "sex           object\n",
       "cp            object\n",
       "trestbps       int64\n",
       "chol           int64\n",
       "fbs           object\n",
       "restecg       object\n",
       "thalach        int64\n",
       "exang         object\n",
       "oldpeak      float64\n",
       "slope         object\n",
       "ca            object\n",
       "thal          object\n",
       "condition      int64\n",
       "dtype: object"
      ]
     },
     "execution_count": 5,
     "metadata": {},
     "output_type": "execute_result"
    }
   ],
   "source": [
    "lst = ['sex', 'cp', 'fbs', 'restecg', 'exang', 'slope', 'ca','thal']\n",
    "df[lst]=df[lst].astype('object')\n",
    "dtype = df.dtypes\n",
    "dtype"
   ]
  },
  {
   "cell_type": "markdown",
   "id": "19929ab1",
   "metadata": {},
   "source": [
    "**Exploring Feature Correlations**\n",
    "\n",
    "By generating a heatmap , can visualize the relationships between numerical features . This visualization is pivotal for understanding how these features interact and impact each other within the dataset. Analyzing feature correlations aids in uncovering potential insights and patterns that will be crucial for project's data-driven conclusions and decision-making."
   ]
  },
  {
   "cell_type": "code",
   "execution_count": 7,
   "id": "120c18ce",
   "metadata": {},
   "outputs": [
    {
     "data": {
      "image/png": "[encoded data removed]",
      "text/plain": [
       "<Figure size 432x288 with 2 Axes>"
      ]
     },
     "metadata": {
      "needs_background": "light"
     },
     "output_type": "display_data"
    }
   ],
   "source": [
    "import seaborn as sns\n",
    "import matplotlib.pyplot as plt\n",
    "numeric_features = df.select_dtypes(include=['int64', 'float64']).columns\n",
    "corr_data = df[numeric_features].corr()\n",
    "plt.figure(figsize=(6, 4))\n",
    "sns.heatmap(corr_data, annot=True, cmap='Reds', linewidths=0.1)\n",
    "plt.title('Correlation Heatmap of Numeric Features')\n",
    "plt.show()"
   ]
  },
  {
   "cell_type": "markdown",
   "id": "6fa3653d",
   "metadata": {},
   "source": [
    "**Visualizing Health Conditions**"
   ]
  },
  {
   "cell_type": "code",
   "execution_count": 8,
   "id": "ddb2fa6f",
   "metadata": {},
   "outputs": [
    {
     "data": {
      "image/png": "[encoded data removed]",
      "text/plain": [
       "<Figure size 432x288 with 1 Axes>"
      ]
     },
     "metadata": {
      "needs_background": "light"
     },
     "output_type": "display_data"
    }
   ],
   "source": [
    "condition_ax = sns.countplot(x='condition', data=df)\n",
    "\n",
    "plt.show()"
   ]
  },
  {
   "cell_type": "code",
   "execution_count": 9,
   "id": "b36f7775",
   "metadata": {},
   "outputs": [
    {
     "data": {
      "image/png": "[encoded data removed]",
      "text/plain": [
       "<Figure size 432x288 with 1 Axes>"
      ]
     },
     "metadata": {
      "needs_background": "light"
     },
     "output_type": "display_data"
    }
   ],
   "source": [
    "#  Analyzing Health Conditions by Gender\n",
    "sex_ax = sns.countplot(x='sex', hue='condition', data=df)\n",
    "plt.show()"
   ]
  },
  {
   "cell_type": "code",
   "execution_count": 10,
   "id": "5afeb746",
   "metadata": {},
   "outputs": [
    {
     "data": {
      "image/png": "[encoded data removed]",
      "text/plain": [
       "<Figure size 432x288 with 1 Axes>"
      ]
     },
     "metadata": {
      "needs_background": "light"
     },
     "output_type": "display_data"
    }
   ],
   "source": [
    "#Examining Chest Pain Types and Health Conditions\n",
    "cp_ax = sns.countplot(x='cp', hue='condition', data=df)\n",
    "plt.show()"
   ]
  },
  {
   "cell_type": "code",
   "execution_count": 11,
   "id": "6f9f1765",
   "metadata": {},
   "outputs": [
    {
     "data": {
      "image/png": "[encoded data removed]",
      "text/plain": [
       "<Figure size 432x288 with 1 Axes>"
      ]
     },
     "metadata": {
      "needs_background": "light"
     },
     "output_type": "display_data"
    }
   ],
   "source": [
    "#Investigating Fasting Blood Sugar Levels and Health Conditions\n",
    "fbs_ax = sns.countplot(x='fbs',hue='condition', data=df)\n",
    "plt.show()"
   ]
  },
  {
   "cell_type": "code",
   "execution_count": 12,
   "id": "4e27cbe2",
   "metadata": {},
   "outputs": [
    {
     "data": {
      "image/png": "[encoded data removed]",
      "text/plain": [
       "<Figure size 432x288 with 1 Axes>"
      ]
     },
     "metadata": {
      "needs_background": "light"
     },
     "output_type": "display_data"
    }
   ],
   "source": [
    "#Analyzing Resting Electrocardiographic Results and Health Conditions\n",
    "restecg_ax = sns.countplot(x='restecg', hue='condition', data = df)\n",
    "plt.show()"
   ]
  },
  {
   "cell_type": "markdown",
   "id": "fc79b0f6",
   "metadata": {},
   "source": [
    "**Examining Exercise-Induced Angina and Health Conditions**"
   ]
  },
  {
   "cell_type": "code",
   "execution_count": 13,
   "id": "7fc82148",
   "metadata": {},
   "outputs": [
    {
     "data": {
      "image/png": "[encoded data removed]",
      "text/plain": [
       "<Figure size 432x288 with 1 Axes>"
      ]
     },
     "metadata": {
      "needs_background": "light"
     },
     "output_type": "display_data"
    }
   ],
   "source": [
    "exang_ax = sns.countplot(x='exang', hue='condition', data=df)\n",
    "plt.show()"
   ]
  },
  {
   "cell_type": "code",
   "execution_count": 14,
   "id": "8c712f54",
   "metadata": {},
   "outputs": [
    {
     "data": {
      "image/png": "[encoded data removed]",
      "text/plain": [
       "<Figure size 432x288 with 1 Axes>"
      ]
     },
     "metadata": {
      "needs_background": "light"
     },
     "output_type": "display_data"
    }
   ],
   "source": [
    "# Investigating the Slope of the ST Segment and Health Conditions\n",
    "slope_ax = sns.countplot(x='slope',hue='condition',data=df)\n",
    "plt.show()"
   ]
  },
  {
   "cell_type": "code",
   "execution_count": 15,
   "id": "50ad14dd",
   "metadata": {},
   "outputs": [
    {
     "data": {
      "image/png": "[encoded data removed]",
      "text/plain": [
       "<Figure size 432x288 with 1 Axes>"
      ]
     },
     "metadata": {
      "needs_background": "light"
     },
     "output_type": "display_data"
    }
   ],
   "source": [
    "# Analyzing the Number of Major Vessels Colored by Fluoroscopy and Health Conditions\n",
    "ca_ax = sns.countplot(x='ca',hue='condition',data=df)\n",
    "plt.show()"
   ]
  },
  {
   "cell_type": "code",
   "execution_count": 16,
   "id": "46783c8d",
   "metadata": {},
   "outputs": [
    {
     "data": {
      "image/png": "[encoded data removed]",
      "text/plain": [
       "<Figure size 432x288 with 1 Axes>"
      ]
     },
     "metadata": {
      "needs_background": "light"
     },
     "output_type": "display_data"
    }
   ],
   "source": [
    "# Examining Thalassemia and Health Conditions\n",
    "thal_ax = sns.countplot(x='thal',hue='condition',data=df)\n",
    "\n",
    "plt.show()"
   ]
  },
  {
   "cell_type": "code",
   "execution_count": 18,
   "id": "82921f46",
   "metadata": {},
   "outputs": [
    {
     "data": {
      "image/png": "[encoded data removed]",
      "text/plain": [
       "<Figure size 720x432 with 1 Axes>"
      ]
     },
     "metadata": {
      "needs_background": "light"
     },
     "output_type": "display_data"
    }
   ],
   "source": [
    "age_col = df['age']\n",
    "\n",
    "\n",
    "plt.figure(figsize=(10, 6))\n",
    "plt.hist(age_col, bins=20, color='blue', alpha=0.7)\n",
    "plt.xlabel('Age')\n",
    "plt.ylabel('Frequency')\n",
    "plt.title('Age Distribution')\n",
    "\n",
    "plt.show()"
   ]
  },
  {
   "cell_type": "code",
   "execution_count": 19,
   "id": "824d4af3",
   "metadata": {},
   "outputs": [
    {
     "data": {
      "image/png": "[encoded data removed]",
      "text/plain": [
       "<Figure size 720x432 with 1 Axes>"
      ]
     },
     "metadata": {
      "needs_background": "light"
     },
     "output_type": "display_data"
    }
   ],
   "source": [
    "trestbps_col = df['trestbps']\n",
    "plt.figure(figsize = (10,6))\n",
    "plt.hist(trestbps_col, bins=20, color='lightcoral',alpha=0.7)\n",
    "plt.xlabel('trestbps')\n",
    "plt.ylabel('Frequency')\n",
    "plt.title('trestbps Distribution')\n",
    "plt.show()"
   ]
  },
  {
   "cell_type": "code",
   "execution_count": 21,
   "id": "ddb6f7a9",
   "metadata": {},
   "outputs": [
    {
     "data": {
      "image/png": "[encoded data removed]",
      "text/plain": [
       "<Figure size 720x432 with 1 Axes>"
      ]
     },
     "metadata": {
      "needs_background": "light"
     },
     "output_type": "display_data"
    }
   ],
   "source": [
    "chol_col = df['chol']\n",
    "plt.figure(figsize = (10,6))\n",
    "plt.hist(chol_col, bins=20, color='orange',alpha=0.7)\n",
    "plt.xlabel('Cholesterol (chol)')\n",
    "plt.ylabel('Frequency')\n",
    "plt.title('Cholesterol Distribution')\n",
    "plt.show()\n"
   ]
  },
  {
   "cell_type": "code",
   "execution_count": 22,
   "id": "d1133ab6",
   "metadata": {},
   "outputs": [
    {
     "data": {
      "image/png": "[encoded data removed]",
      "text/plain": [
       "<Figure size 720x432 with 1 Axes>"
      ]
     },
     "metadata": {
      "needs_background": "light"
     },
     "output_type": "display_data"
    }
   ],
   "source": [
    "thalach_col = df['thalach']\n",
    "plt.figure(figsize = (10,6))\n",
    "plt.hist(thalach_col, bins=20, color='lightblue',alpha=0.7)\n",
    "plt.xlabel('Maximum Heart Rate (thalach)')\n",
    "plt.ylabel('Frequency')\n",
    "plt.title('Maximum Heart Rate Distribution')\n",
    "plt.show()"
   ]
  },
  {
   "cell_type": "code",
   "execution_count": 25,
   "id": "01ef3e2b",
   "metadata": {},
   "outputs": [
    {
     "data": {
      "image/png": "[encoded data removed]",
      "text/plain": [
       "<Figure size 720x432 with 1 Axes>"
      ]
     },
     "metadata": {
      "needs_background": "light"
     },
     "output_type": "display_data"
    }
   ],
   "source": [
    "oldpeak_col = df['oldpeak']\n",
    "plt.figure(figsize = (10,6))\n",
    "plt.hist(oldpeak_col, bins=20, color='darkblue',alpha=0.7)\n",
    "plt.xlabel('ST depression')\n",
    "plt.ylabel('Frequency')\n",
    "plt.title('Distribution of ST depression')\n",
    "plt.show()\n"
   ]
  },
  {
   "cell_type": "markdown",
   "id": "1e226659",
   "metadata": {},
   "source": [
    " By generating this plot, can gain insights into how chest pain types are distributed across different age groups and their association with health conditions. This visualization is essential for understanding how chest pain and age impact health outcomes, a significant aspect of  project's analysis.\n",
    "\n"
   ]
  },
  {
   "cell_type": "code",
   "execution_count": 26,
   "id": "d62463f9",
   "metadata": {},
   "outputs": [
    {
     "data": {
      "image/png": "[encoded data removed]",
      "text/plain": [
       "<Figure size 414.25x360 with 1 Axes>"
      ]
     },
     "metadata": {
      "needs_background": "light"
     },
     "output_type": "display_data"
    }
   ],
   "source": [
    "violinplt = sns.catplot(x='cp', y='age', hue='condition', data=df, kind='violin', palette='muted')\n",
    "plt.show()"
   ]
  },
  {
   "cell_type": "code",
   "execution_count": 27,
   "id": "89eb57aa",
   "metadata": {},
   "outputs": [
    {
     "data": {
      "image/png": "[encoded data removed]",
      "text/plain": [
       "<Figure size 414.25x360 with 1 Axes>"
      ]
     },
     "metadata": {
      "needs_background": "light"
     },
     "output_type": "display_data"
    }
   ],
   "source": [
    "countplt = sns.catplot(x='fbs', hue='condition', data=df, kind='count', alpha=0.85)\n",
    "plt.show()\n"
   ]
  },
  {
   "cell_type": "markdown",
   "id": "ed71e40b",
   "metadata": {},
   "source": [
    "***Encoding Categorical Features***"
   ]
  },
  {
   "cell_type": "code",
   "execution_count": 28,
   "id": "1f97e6d5",
   "metadata": {},
   "outputs": [
    {
     "name": "stdout",
     "output_type": "stream",
     "text": [
      "age            int64\n",
      "sex           object\n",
      "trestbps       int64\n",
      "chol           int64\n",
      "fbs           object\n",
      "restecg       object\n",
      "thalach        int64\n",
      "exang         object\n",
      "oldpeak      float64\n",
      "ca            object\n",
      "condition      int64\n",
      "cp_0           int32\n",
      "cp_1           int32\n",
      "cp_2           int32\n",
      "cp_3           int32\n",
      "thal_0         int32\n",
      "thal_1         int32\n",
      "thal_2         int32\n",
      "slope_0        int32\n",
      "slope_1        int32\n",
      "slope_2        int32\n",
      "dtype: object\n"
     ]
    }
   ],
   "source": [
    "categorical_cols=['cp', 'thal', 'slope']\n",
    "\n",
    "for col in categorical_cols:\n",
    "    df[col] = df[col].astype(int)\n",
    "\n",
    "df_encoded = pd.get_dummies(df, columns=categorical_cols, prefix_sep='_', dtype=int)\n",
    "\n",
    "print(df_encoded.dtypes)\n"
   ]
  },
  {
   "cell_type": "markdown",
   "id": "51050d12",
   "metadata": {},
   "source": [
    "Create the variable 'x' by excluding the 'condition' column, which serves as  feature set. The 'y' variable is defined as the 'condition' column, representing target variable. "
   ]
  },
  {
   "cell_type": "code",
   "execution_count": 29,
   "id": "ae2f0ae6",
   "metadata": {},
   "outputs": [],
   "source": [
    "x =df_encoded.drop('condition', axis=1)\n",
    "\n",
    "y = df_encoded['condition']"
   ]
  },
  {
   "cell_type": "markdown",
   "id": "49ba4d7b",
   "metadata": {},
   "source": [
    "***Scaling Features***"
   ]
  },
  {
   "cell_type": "code",
   "execution_count": 30,
   "id": "7f45f189",
   "metadata": {},
   "outputs": [],
   "source": [
    "from sklearn.preprocessing import MinMaxScaler\n",
    "\n",
    "scaling = MinMaxScaler()\n",
    "\n",
    "x_scaled = scaling.fit_transform(x)"
   ]
  },
  {
   "cell_type": "code",
   "execution_count": 31,
   "id": "e6e9ccab",
   "metadata": {},
   "outputs": [],
   "source": [
    "from sklearn.model_selection import train_test_split\n",
    "X_train, X_test, Y_train, Y_test = train_test_split(x_scaled, y, train_size=0.8, test_size=0.2, random_state=4)"
   ]
  },
  {
   "cell_type": "markdown",
   "id": "8db5175e",
   "metadata": {},
   "source": [
    "***Building and Evaluating Logistic Regression Model***"
   ]
  },
  {
   "cell_type": "code",
   "execution_count": 32,
   "id": "5d14093a",
   "metadata": {},
   "outputs": [
    {
     "data": {
      "text/plain": [
       "0.8211"
      ]
     },
     "execution_count": 32,
     "metadata": {},
     "output_type": "execute_result"
    }
   ],
   "source": [
    "from sklearn.linear_model import LogisticRegression\n",
    "from sklearn.model_selection import cross_val_score\n",
    "\n",
    "lr_model = LogisticRegression()\n",
    "lr_model.fit(X_train, Y_train)\n",
    "\n",
    "lr_cv_results = cross_val_score(lr_model, x_scaled, y, cv=10)\n",
    "lr_mean_score = round(lr_cv_results.mean(), 4)\n",
    "\n",
    "lr_mean_score"
   ]
  },
  {
   "cell_type": "markdown",
   "id": "8d738a49",
   "metadata": {},
   "source": [
    "***Building and Evaluating Linear Discriminant Analysis Model***"
   ]
  },
  {
   "cell_type": "code",
   "execution_count": 33,
   "id": "1aa5af1b",
   "metadata": {},
   "outputs": [
    {
     "data": {
      "text/plain": [
       "0.8215"
      ]
     },
     "execution_count": 33,
     "metadata": {},
     "output_type": "execute_result"
    }
   ],
   "source": [
    "from sklearn.discriminant_analysis import LinearDiscriminantAnalysis\n",
    "from sklearn.model_selection import cross_val_score\n",
    "\n",
    "ldr_model = LinearDiscriminantAnalysis()\n",
    "\n",
    "ldr_model.fit(X_train, Y_train)\n",
    "\n",
    "ldr_cv_results = cross_val_score(ldr_model, x_scaled, y, cv=10)\n",
    "ldr_mean_score = round(ldr_cv_results.mean(), 4)\n",
    "\n",
    "ldr_mean_score "
   ]
  },
  {
   "cell_type": "markdown",
   "id": "252a1bde",
   "metadata": {},
   "source": [
    "***Building and Evaluating K-Nearest Neighbors (KNN) Model***"
   ]
  },
  {
   "cell_type": "code",
   "execution_count": 35,
   "id": "d4e58f9e",
   "metadata": {},
   "outputs": [
    {
     "name": "stdout",
     "output_type": "stream",
     "text": [
      "0.7877\n",
      "0.1742\n"
     ]
    },
    {
     "name": "stderr",
     "output_type": "stream",
     "text": [
      "C:\\Users\\ABHILASH\\anaconda3\\lib\\site-packages\\sklearn\\neighbors\\_classification.py:228: FutureWarning: Unlike other reduction functions (e.g. `skew`, `kurtosis`), the default behavior of `mode` typically preserves the axis it acts along. In SciPy 1.11.0, this behavior will change: the default value of `keepdims` will become False, the `axis` over which the statistic is taken will be eliminated, and the value None will no longer be accepted. Set `keepdims` to True or False to avoid this warning.\n",
      "  mode, _ = stats.mode(_y[neigh_ind, k], axis=1)\n",
      "C:\\Users\\ABHILASH\\anaconda3\\lib\\site-packages\\sklearn\\neighbors\\_classification.py:228: FutureWarning: Unlike other reduction functions (e.g. `skew`, `kurtosis`), the default behavior of `mode` typically preserves the axis it acts along. In SciPy 1.11.0, this behavior will change: the default value of `keepdims` will become False, the `axis` over which the statistic is taken will be eliminated, and the value None will no longer be accepted. Set `keepdims` to True or False to avoid this warning.\n",
      "  mode, _ = stats.mode(_y[neigh_ind, k], axis=1)\n",
      "C:\\Users\\ABHILASH\\anaconda3\\lib\\site-packages\\sklearn\\neighbors\\_classification.py:228: FutureWarning: Unlike other reduction functions (e.g. `skew`, `kurtosis`), the default behavior of `mode` typically preserves the axis it acts along. In SciPy 1.11.0, this behavior will change: the default value of `keepdims` will become False, the `axis` over which the statistic is taken will be eliminated, and the value None will no longer be accepted. Set `keepdims` to True or False to avoid this warning.\n",
      "  mode, _ = stats.mode(_y[neigh_ind, k], axis=1)\n",
      "C:\\Users\\ABHILASH\\anaconda3\\lib\\site-packages\\sklearn\\neighbors\\_classification.py:228: FutureWarning: Unlike other reduction functions (e.g. `skew`, `kurtosis`), the default behavior of `mode` typically preserves the axis it acts along. In SciPy 1.11.0, this behavior will change: the default value of `keepdims` will become False, the `axis` over which the statistic is taken will be eliminated, and the value None will no longer be accepted. Set `keepdims` to True or False to avoid this warning.\n",
      "  mode, _ = stats.mode(_y[neigh_ind, k], axis=1)\n",
      "C:\\Users\\ABHILASH\\anaconda3\\lib\\site-packages\\sklearn\\neighbors\\_classification.py:228: FutureWarning: Unlike other reduction functions (e.g. `skew`, `kurtosis`), the default behavior of `mode` typically preserves the axis it acts along. In SciPy 1.11.0, this behavior will change: the default value of `keepdims` will become False, the `axis` over which the statistic is taken will be eliminated, and the value None will no longer be accepted. Set `keepdims` to True or False to avoid this warning.\n",
      "  mode, _ = stats.mode(_y[neigh_ind, k], axis=1)\n",
      "C:\\Users\\ABHILASH\\anaconda3\\lib\\site-packages\\sklearn\\neighbors\\_classification.py:228: FutureWarning: Unlike other reduction functions (e.g. `skew`, `kurtosis`), the default behavior of `mode` typically preserves the axis it acts along. In SciPy 1.11.0, this behavior will change: the default value of `keepdims` will become False, the `axis` over which the statistic is taken will be eliminated, and the value None will no longer be accepted. Set `keepdims` to True or False to avoid this warning.\n",
      "  mode, _ = stats.mode(_y[neigh_ind, k], axis=1)\n",
      "C:\\Users\\ABHILASH\\anaconda3\\lib\\site-packages\\sklearn\\neighbors\\_classification.py:228: FutureWarning: Unlike other reduction functions (e.g. `skew`, `kurtosis`), the default behavior of `mode` typically preserves the axis it acts along. In SciPy 1.11.0, this behavior will change: the default value of `keepdims` will become False, the `axis` over which the statistic is taken will be eliminated, and the value None will no longer be accepted. Set `keepdims` to True or False to avoid this warning.\n",
      "  mode, _ = stats.mode(_y[neigh_ind, k], axis=1)\n",
      "C:\\Users\\ABHILASH\\anaconda3\\lib\\site-packages\\sklearn\\neighbors\\_classification.py:228: FutureWarning: Unlike other reduction functions (e.g. `skew`, `kurtosis`), the default behavior of `mode` typically preserves the axis it acts along. In SciPy 1.11.0, this behavior will change: the default value of `keepdims` will become False, the `axis` over which the statistic is taken will be eliminated, and the value None will no longer be accepted. Set `keepdims` to True or False to avoid this warning.\n",
      "  mode, _ = stats.mode(_y[neigh_ind, k], axis=1)\n",
      "C:\\Users\\ABHILASH\\anaconda3\\lib\\site-packages\\sklearn\\neighbors\\_classification.py:228: FutureWarning: Unlike other reduction functions (e.g. `skew`, `kurtosis`), the default behavior of `mode` typically preserves the axis it acts along. In SciPy 1.11.0, this behavior will change: the default value of `keepdims` will become False, the `axis` over which the statistic is taken will be eliminated, and the value None will no longer be accepted. Set `keepdims` to True or False to avoid this warning.\n",
      "  mode, _ = stats.mode(_y[neigh_ind, k], axis=1)\n",
      "C:\\Users\\ABHILASH\\anaconda3\\lib\\site-packages\\sklearn\\neighbors\\_classification.py:228: FutureWarning: Unlike other reduction functions (e.g. `skew`, `kurtosis`), the default behavior of `mode` typically preserves the axis it acts along. In SciPy 1.11.0, this behavior will change: the default value of `keepdims` will become False, the `axis` over which the statistic is taken will be eliminated, and the value None will no longer be accepted. Set `keepdims` to True or False to avoid this warning.\n",
      "  mode, _ = stats.mode(_y[neigh_ind, k], axis=1)\n"
     ]
    }
   ],
   "source": [
    "from sklearn.neighbors import KNeighborsClassifier\n",
    "from sklearn.model_selection import cross_val_score\n",
    "\n",
    "knn_model = KNeighborsClassifier()\n",
    "\n",
    "knn_model.fit(X_train, Y_train)\n",
    "knn_cv_results = cross_val_score(knn_model, x_scaled, y, cv=10)\n",
    "\n",
    "knn_mean_score = round(knn_cv_results.mean(), 4)\n",
    "knn_std_score = round(knn_cv_results.std(), 4)\n",
    "\n",
    "print(knn_mean_score)\n",
    "print(knn_std_score)"
   ]
  },
  {
   "cell_type": "markdown",
   "id": "52c686db",
   "metadata": {},
   "source": [
    "***Building and Evaluating Decision Tree Classifier Model***"
   ]
  },
  {
   "cell_type": "code",
   "execution_count": 37,
   "id": "1fbb2b4f",
   "metadata": {},
   "outputs": [
    {
     "data": {
      "text/plain": [
       "0.6494"
      ]
     },
     "execution_count": 37,
     "metadata": {},
     "output_type": "execute_result"
    }
   ],
   "source": [
    "from sklearn.tree import DecisionTreeClassifier\n",
    "from sklearn.model_selection import cross_val_score\n",
    "\n",
    "dt_model = DecisionTreeClassifier()\n",
    "\n",
    "dt_model.fit(X_train, Y_train)\n",
    "dt_cv_results = cross_val_score(dt_model, x_scaled, y, cv=10)\n",
    "dt_mean_score = round(dt_cv_results.mean(), 4)\n",
    "dt_mean_score"
   ]
  },
  {
   "cell_type": "markdown",
   "id": "40c3bbdf",
   "metadata": {},
   "source": [
    "**Building and Evaluating Random Forest Classifier Model**"
   ]
  },
  {
   "cell_type": "code",
   "execution_count": 41,
   "id": "008206c3",
   "metadata": {},
   "outputs": [
    {
     "data": {
      "text/plain": [
       "0.7809"
      ]
     },
     "execution_count": 41,
     "metadata": {},
     "output_type": "execute_result"
    }
   ],
   "source": [
    "from sklearn.ensemble import RandomForestClassifier\n",
    "from sklearn.model_selection import cross_val_score\n",
    "\n",
    "num_trees = 100\n",
    "max_features = 'sqrt' \n",
    "\n",
    "rf_model = RandomForestClassifier(n_estimators=num_trees, max_features=max_features)\n",
    "\n",
    "rf_model.fit(X_train, Y_train)\n",
    "rf_cv_results = cross_val_score(rf_model, x_scaled, y, cv=10)\n",
    "\n",
    "\n",
    "rf_mean_score = round(rf_cv_results.mean(), 4)\n",
    "rf_mean_score "
   ]
  },
  {
   "cell_type": "markdown",
   "id": "f4035ad0",
   "metadata": {},
   "source": [
    "***Building and Evaluating Gaussian Naive Bayes Model***"
   ]
  },
  {
   "cell_type": "code",
   "execution_count": 38,
   "id": "e7a38838",
   "metadata": {},
   "outputs": [
    {
     "data": {
      "text/plain": [
       "0.781"
      ]
     },
     "execution_count": 38,
     "metadata": {},
     "output_type": "execute_result"
    }
   ],
   "source": [
    "from sklearn.naive_bayes import GaussianNB\n",
    "from sklearn.model_selection import cross_val_score\n",
    "\n",
    "gnb_model = GaussianNB()\n",
    "\n",
    "gnb_model.fit(X_train, Y_train)\n",
    "gnb_cv_results = cross_val_score(gnb_model, x_scaled, y, cv=10)\n",
    "\n",
    "gnb_mean_score = round(gnb_cv_results.mean(), 4)\n",
    "\n",
    "gnb_mean_score"
   ]
  },
  {
   "cell_type": "markdown",
   "id": "545e4761",
   "metadata": {},
   "source": [
    "**Evaluating Model Performance**"
   ]
  },
  {
   "cell_type": "code",
   "execution_count": 39,
   "id": "a19d7ed2",
   "metadata": {},
   "outputs": [
    {
     "name": "stdout",
     "output_type": "stream",
     "text": [
      "Accuracy Score: 0.7666666666666667\n",
      "\n",
      "Confusion Matrix:\n",
      " [[28  5]\n",
      " [ 9 18]]\n",
      "\n",
      "Classification Report:\n",
      "               precision    recall  f1-score   support\n",
      "\n",
      "           0       0.76      0.85      0.80        33\n",
      "           1       0.78      0.67      0.72        27\n",
      "\n",
      "    accuracy                           0.77        60\n",
      "   macro avg       0.77      0.76      0.76        60\n",
      "weighted avg       0.77      0.77      0.76        60\n",
      "\n"
     ]
    }
   ],
   "source": [
    "from sklearn.metrics import accuracy_score, confusion_matrix, classification_report\n",
    "\n",
    "y_pred = gnb_model.predict(X_test)\n",
    "\n",
    "\n",
    "accuracy = accuracy_score(Y_test, y_pred)\n",
    "\n",
    "cm = confusion_matrix(Y_test, y_pred)\n",
    "\n",
    "cr = classification_report(Y_test, y_pred)\n",
    "\n",
    "print(\"Accuracy Score:\", accuracy)\n",
    "print(\"\\nConfusion Matrix:\\n\", cm)\n",
    "print(\"\\nClassification Report:\\n\", cr)\n"
   ]
  },
  {
   "cell_type": "markdown",
   "id": "7d138795",
   "metadata": {},
   "source": [
    "**Making Predictions with Gaussian Naive Bayes Model**"
   ]
  },
  {
   "cell_type": "code",
   "execution_count": 42,
   "id": "cb97490d",
   "metadata": {},
   "outputs": [
    {
     "data": {
      "text/plain": [
       "array([1], dtype=int64)"
      ]
     },
     "execution_count": 42,
     "metadata": {},
     "output_type": "execute_result"
    }
   ],
   "source": [
    "data = [[0.254, 1, 0.487, 0.362,  ## age_scaled, sex, trestbps_scaled, chol\n",
    "             1, 0.5, 0.641, 1,  ## fbs, restecg_scaled, thalach_scaled, exang\n",
    "             0.672, 0.863, 0, 0,  ## oldpeak_scaled, ca_scaled, cp_0, cp_1\n",
    "             0, 1, 0, 0,  ## cp_2, cp_3, thal_0, thal_1\n",
    "             0, 1, 0, 1]]  ## thal_2, thal_3, slope_0, slope_1, slope_2\n",
    "\n",
    "\n",
    "prediction = gnb_model.predict(data)\n",
    "\n",
    "prediction"
   ]
  },
  {
   "cell_type": "code",
   "execution_count": null,
   "id": "db5e7936",
   "metadata": {},
   "outputs": [],
   "source": []
  }
 ],
 "metadata": {
  "kernelspec": {
   "display_name": "Python 3 (ipykernel)",
   "language": "python",
   "name": "python3"
  },
  "language_info": {
   "codemirror_mode": {
    "name": "ipython",
    "version": 3
   },
   "file_extension": ".py",
   "mimetype": "text/x-python",
   "name": "python",
   "nbconvert_exporter": "python",
   "pygments_lexer": "ipython3",
   "version": "3.9.12"
  }
 },
 "nbformat": 4,
 "nbformat_minor": 5
}
